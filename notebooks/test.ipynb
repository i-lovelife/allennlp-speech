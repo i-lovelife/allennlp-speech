{
 "cells": [
  {
   "cell_type": "code",
   "execution_count": 5,
   "metadata": {},
   "outputs": [],
   "source": [
    "from pathlib import Path\n",
    "root_dir = Path('.').resolve().parent\n",
    "import sys\n",
    "sys.path.append(root_dir)\n",
    "\n",
    "%load_ext autoreload\n",
    "%autoreload 2"
   ]
  },
  {
   "cell_type": "code",
   "execution_count": 11,
   "metadata": {},
   "outputs": [],
   "source": [
    "import torch\n",
    "from scipy.io import wavfile\n",
    "from scipy import signal\n",
    "import numpy as np"
   ]
  },
  {
   "cell_type": "code",
   "execution_count": 14,
   "metadata": {},
   "outputs": [
    {
     "name": "stdout",
     "output_type": "stream",
     "text": [
      "(16000,)\n",
      "(99, 161)\n"
     ]
    },
    {
     "data": {
      "text/plain": [
       "tensor([[ -3.7267,  -3.4231,  -0.3736,  ..., -11.8554, -10.8581, -11.5257],\n",
       "        [ -5.6856,  -4.1784,  -2.0797,  ..., -11.4320, -11.4188, -12.1216],\n",
       "        [ -6.1031,  -5.6279,   0.2300,  ..., -11.5894, -11.5558, -13.0355],\n",
       "        ...,\n",
       "        [ -9.1891,  -5.4730,  -2.6923,  ..., -11.7991, -13.1026, -12.1093],\n",
       "        [ -9.6067,  -4.5401,  -2.6894,  ..., -12.9995, -11.7861, -13.6048],\n",
       "        [ -9.0516,  -4.6354,  -1.5045,  ..., -10.9258, -17.5748, -16.7621]])"
      ]
     },
     "execution_count": 14,
     "metadata": {},
     "output_type": "execute_result"
    }
   ],
   "source": [
    "def log_specgram(audio, sample_rate, window_size=20,\n",
    "                 step_size=10, eps=1e-10):\n",
    "    nperseg = int(round(window_size * sample_rate / 1e3))# nperseg = 320\n",
    "    noverlap = int(round(step_size * sample_rate / 1e3))# noverlap = 160\n",
    "    freqs, times, spec = signal.spectrogram(audio,\n",
    "                                    fs=sample_rate,\n",
    "                                    window='hann',\n",
    "                                    nperseg=nperseg,\n",
    "                                    noverlap=noverlap,\n",
    "                                    detrend=False)\n",
    "    return freqs, times, np.log(spec.T.astype(np.float32) + eps)\n",
    "def convert(filename: str)->torch.FloatTensor:\n",
    "    \"\"\"\n",
    "    Convert wav file to feature\n",
    "    \"\"\"\n",
    "    sample_rate, samples = wavfile.read(filename)\n",
    "    print(samples.shape)\n",
    "    freqs, times, spectrogram = log_specgram(samples, sample_rate)\n",
    "    print(spectrogram.shape)\n",
    "    return torch.tensor(spectrogram)\n",
    "convert(root_dir/ 'datasets'/ 'speech_commands_v1'/ 'bed'/ '1aed7c6d_nohash_0.wav')"
   ]
  }
 ],
 "metadata": {
  "kernelspec": {
   "display_name": "Python 3",
   "language": "python",
   "name": "python3"
  },
  "language_info": {
   "codemirror_mode": {
    "name": "ipython",
    "version": 3
   },
   "file_extension": ".py",
   "mimetype": "text/x-python",
   "name": "python",
   "nbconvert_exporter": "python",
   "pygments_lexer": "ipython3",
   "version": "3.6.5"
  }
 },
 "nbformat": 4,
 "nbformat_minor": 2
}

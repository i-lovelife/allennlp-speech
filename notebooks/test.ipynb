{
 "cells": [
  {
   "cell_type": "code",
   "execution_count": 1,
   "metadata": {},
   "outputs": [],
   "source": [
    "from pathlib import Path\n",
    "root_dir = Path('.').resolve().parent\n",
    "import sys\n",
    "sys.path.append(root_dir)\n",
    "\n",
    "%load_ext autoreload\n",
    "%autoreload 2"
   ]
  },
  {
   "cell_type": "code",
   "execution_count": 25,
   "metadata": {},
   "outputs": [],
   "source": [
    "import torch\n",
    "from scipy.io import wavfile\n",
    "from scipy import signal\n",
    "import numpy as np\n",
    "import glob\n",
    "import random"
   ]
  },
  {
   "cell_type": "code",
   "execution_count": 14,
   "metadata": {},
   "outputs": [
    {
     "name": "stdout",
     "output_type": "stream",
     "text": [
      "(16000,)\n",
      "(99, 161)\n"
     ]
    },
    {
     "data": {
      "text/plain": [
       "tensor([[ -3.7267,  -3.4231,  -0.3736,  ..., -11.8554, -10.8581, -11.5257],\n",
       "        [ -5.6856,  -4.1784,  -2.0797,  ..., -11.4320, -11.4188, -12.1216],\n",
       "        [ -6.1031,  -5.6279,   0.2300,  ..., -11.5894, -11.5558, -13.0355],\n",
       "        ...,\n",
       "        [ -9.1891,  -5.4730,  -2.6923,  ..., -11.7991, -13.1026, -12.1093],\n",
       "        [ -9.6067,  -4.5401,  -2.6894,  ..., -12.9995, -11.7861, -13.6048],\n",
       "        [ -9.0516,  -4.6354,  -1.5045,  ..., -10.9258, -17.5748, -16.7621]])"
      ]
     },
     "execution_count": 14,
     "metadata": {},
     "output_type": "execute_result"
    }
   ],
   "source": [
    "def log_specgram(audio, sample_rate, window_size=20,\n",
    "                 step_size=10, eps=1e-10):\n",
    "    nperseg = int(round(window_size * sample_rate / 1e3))# nperseg = 320\n",
    "    noverlap = int(round(step_size * sample_rate / 1e3))# noverlap = 160\n",
    "    freqs, times, spec = signal.spectrogram(audio,\n",
    "                                    fs=sample_rate,\n",
    "                                    window='hann',\n",
    "                                    nperseg=nperseg,\n",
    "                                    noverlap=noverlap,\n",
    "                                    detrend=False)\n",
    "    return freqs, times, np.log(spec.T.astype(np.float32) + eps)\n",
    "def convert(filename: str)->torch.FloatTensor:\n",
    "    \"\"\"\n",
    "    Convert wav file to feature\n",
    "    \"\"\"\n",
    "    sample_rate, samples = wavfile.read(filename)\n",
    "    print(samples.shape)\n",
    "    freqs, times, spectrogram = log_specgram(samples, sample_rate)\n",
    "    print(spectrogram.shape)\n",
    "    return torch.tensor(spectrogram)\n",
    "convert(root_dir/ 'datasets'/ 'speech_commands_v1'/ 'bed'/ '1aed7c6d_nohash_0.wav')"
   ]
  },
  {
   "cell_type": "code",
   "execution_count": 8,
   "metadata": {},
   "outputs": [],
   "source": [
    "data_root = root_dir / 'datasets' / 'speech_commands_v1'\n",
    "def get_list(filename):\n",
    "    with open(filename) as f:\n",
    "        file_list = f.readlines()\n",
    "    return [s.strip() for s in file_list]\n",
    "test_list = get_list(data_root / 'testing_list.txt')\n",
    "dev_list = get_list(data_root / 'validation_list.txt')"
   ]
  },
  {
   "cell_type": "code",
   "execution_count": 22,
   "metadata": {},
   "outputs": [
    {
     "name": "stdout",
     "output_type": "stream",
     "text": [
      "51088\n",
      "['eight/1b88bf70_nohash_0.wav', 'eight/b12bef84_nohash_1.wav', 'eight/05b2db80_nohash_1.wav', 'eight/3852fca2_nohash_0.wav', 'eight/5ac04a92_nohash_0.wav']\n"
     ]
    }
   ],
   "source": [
    "def get_train_list():\n",
    "    train_list = []\n",
    "    for s in data_root.glob('*/*.wav'):\n",
    "        s = str(s)\n",
    "        name = s.split('/')[-2:]\n",
    "        if ('/'.join(name) not in (dev_list + test_list)) and name[0]!='_background_noise_':\n",
    "            train_list.append('/'.join(name))\n",
    "    print(len(train_list))\n",
    "    print(train_list[:5])\n",
    "    return train_list\n",
    "train_list = get_train_list()"
   ]
  },
  {
   "cell_type": "code",
   "execution_count": 23,
   "metadata": {},
   "outputs": [],
   "source": [
    "with open(data_root / 'train_list.txt', 'w') as f:\n",
    "    f.write('\\n'.join(train_list))"
   ]
  },
  {
   "cell_type": "code",
   "execution_count": 24,
   "metadata": {},
   "outputs": [
    {
     "name": "stdout",
     "output_type": "stream",
     "text": [
      "51088\n",
      "6798\n",
      "6835\n"
     ]
    }
   ],
   "source": [
    "print(len(train_list))\n",
    "print(len(dev_list))\n",
    "print(len(test_list))"
   ]
  },
  {
   "cell_type": "code",
   "execution_count": 27,
   "metadata": {},
   "outputs": [],
   "source": [
    "test_fixture_dir = root_dir / 'test' / 'fixtures'\n",
    "def gen_sample(file_list, name, num=5):\n",
    "    to_write = random.sample(file_list, len(file_list))[:num]\n",
    "    with open(test_fixture_dir / name, 'w') as f:\n",
    "        f.write('\\n'.join(to_write))\n",
    "gen_sample(train_list, 'train.txt')\n",
    "gen_sample(dev_list, 'dev.txt')\n",
    "gen_sample(test_list, 'test.txt')"
   ]
  }
 ],
 "metadata": {
  "kernelspec": {
   "display_name": "Python 3",
   "language": "python",
   "name": "python3"
  },
  "language_info": {
   "codemirror_mode": {
    "name": "ipython",
    "version": 3
   },
   "file_extension": ".py",
   "mimetype": "text/x-python",
   "name": "python",
   "nbconvert_exporter": "python",
   "pygments_lexer": "ipython3",
   "version": "3.6.5"
  }
 },
 "nbformat": 4,
 "nbformat_minor": 2
}

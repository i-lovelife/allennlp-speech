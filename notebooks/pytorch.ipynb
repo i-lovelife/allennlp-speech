{
 "cells": [
  {
   "cell_type": "code",
   "execution_count": 3,
   "metadata": {},
   "outputs": [],
   "source": [
    "import torch\n",
    "from torch.utils.data import Dataset, DataLoader\n",
    "import torch.nn as nn\n",
    "import torch.nn.functional as F\n",
    "import numpy as np"
   ]
  },
  {
   "cell_type": "code",
   "execution_count": 4,
   "metadata": {},
   "outputs": [
    {
     "name": "stdout",
     "output_type": "stream",
     "text": [
      "[0. 0. 0. 0. 0. 0. 0. 0. 0. 0.]\n",
      "[0. 0. 0. 0. 0. 0. 0. 0. 0. 0.]\n"
     ]
    }
   ],
   "source": [
    "class MyDataset(Dataset):\n",
    "    def __init__(self, x, y):\n",
    "        self.data = torch.FloatTensor(x)\n",
    "        self.lable = torch.LongTensor(y)\n",
    "    def __len__(self):\n",
    "        return len(self.data)\n",
    "    def __getitem__(self, idx):\n",
    "        return (self.data[idx], self.lable[idx])\n",
    "\n",
    "X_train = np.random.randn(10000, 20)\n",
    "Y_train = np.zeros(10000,)#((np.sum(X_train[:, :10], axis=1))>0).astype(int)\n",
    "X_dev = np.random.randn(1000, 20)\n",
    "Y_dev = np.zeros(1000,)#((np.sum(X_dev, axis=1))>0).astype(int)\n",
    "print(Y_train[:10])\n",
    "print(Y_dev[:10])"
   ]
  },
  {
   "cell_type": "code",
   "execution_count": 6,
   "metadata": {},
   "outputs": [],
   "source": [
    "dataset_train = MyDataset(X_train, Y_train)\n",
    "dataset_dev = MyDataset(X_dev, Y_dev)\n",
    "dataloader_train = DataLoader(dataset_train, batch_size=20)\n",
    "\n",
    "dataloader_dev = DataLoader(dataset_dev, batch_size=20,\n",
    "                        shuffle=True, num_workers=4)\n",
    "\n",
    "iter_train = iter(dataloader_train)"
   ]
  },
  {
   "cell_type": "code",
   "execution_count": null,
   "metadata": {},
   "outputs": [],
   "source": [
    "\n",
    "\n",
    "class MyModel(nn.Module):\n",
    "    def __init__(self, input_dim, num_class):\n",
    "        super(MyModel, self).__init__()\n",
    "        self.network = nn.Sequential(\n",
    "                       nn.Linear(input_dim, input_dim),\n",
    "                       nn.Dropout(p=0.5),\n",
    "                       nn.ReLU(),\n",
    "                       nn.Linear(input_dim, input_dim),\n",
    "                       nn.ReLU(),\n",
    "                       nn.Linear(int(input_dim), num_class)\n",
    "                        )\n",
    "    def forward(self, X):\n",
    "        out = self.network(X)\n",
    "        return out\n",
    "        \n",
    "model = MyModel(20, 2)\n",
    "optimizer = torch.optim.SGD(model.parameters(), lr=0.001, momentum=0.9)\n",
    "num_epoch = 10\n",
    "for epoch in range(num_epoch):\n",
    "    model.train()\n",
    "    for (x, y) in dataloader_train:\n",
    "        optimizer.zero_grad()\n",
    "        logits = model(x)\n",
    "        loss = F.cross_entropy(logits, y)\n",
    "        loss.backward()\n",
    "        optimizer.step()\n",
    "    \n",
    "    model.eval()\n",
    "    tot = 0\n",
    "    correct = 0\n",
    "    for (x, y) in dataloader_dev:\n",
    "        logits = model(x)\n",
    "        predict = logits.argmax(dim=1)\n",
    "        tot += x.size(0)\n",
    "        correct += (predict == y).float().sum()\n",
    "    acc = correct / tot\n",
    "    print(f'epoch:{epoch} acc：{acc}')"
   ]
  }
 ],
 "metadata": {
  "kernelspec": {
   "display_name": "Python 3",
   "language": "python",
   "name": "python3"
  },
  "language_info": {
   "codemirror_mode": {
    "name": "ipython",
    "version": 3
   },
   "file_extension": ".py",
   "mimetype": "text/x-python",
   "name": "python",
   "nbconvert_exporter": "python",
   "pygments_lexer": "ipython3",
   "version": "3.6.5"
  }
 },
 "nbformat": 4,
 "nbformat_minor": 2
}

{
 "cells": [
  {
   "cell_type": "code",
   "execution_count": 5,
   "metadata": {},
   "outputs": [
    {
     "name": "stdout",
     "output_type": "stream",
     "text": [
      "True\n",
      "False\n"
     ]
    }
   ],
   "source": [
    "class Dataset\n",
    "    def transform(self, fpath):\n",
    "        \"\"\"Returns normalized log(melspectrogram) and log(magnitude) from `sound_file`.\n",
    "        Args:\n",
    "        sound_file: A string. The full path of a sound file.\n",
    "        Returns:\n",
    "        mel: A 2d array of shape (T, n_mels) <- Transposed\n",
    "        mag: A 2d array of shape (T, 1+n_fft/2) <- Transposed\n",
    "        \"\"\"\n",
    "\n",
    "        # Loading sound file\n",
    "        y, sr = librosa.load(fpath, sr=self.sr)\n",
    "\n",
    "        hop_length = int(sr * self.frame_shift)\n",
    "        win_length = int(sr * self.frame_length)\n",
    "        # Trimming\n",
    "        if self.trim:\n",
    "            y, _ = librosa.effects.trim(y)\n",
    "\n",
    "        # Preemphasis\n",
    "        y = np.append(y[0], y[1:] - self.preemphasis * y[:-1])\n",
    "\n",
    "        # stft\n",
    "        linear = librosa.stft(y=y,\n",
    "                            n_fft=self.n_fft,\n",
    "                            hop_length=hop_length,\n",
    "                            win_length=win_length)\n",
    "\n",
    "        # magnitude spectrogram\n",
    "        mag = np.abs(linear)  # (1+n_fft//2, T)\n",
    "\n",
    "        # mel spectrogram\n",
    "        mel_basis = librosa.filters.mel(self.sr, self.n_fft, self.n_mels)  # (n_mels, 1+n_fft//2)\n",
    "        mel = np.dot(mel_basis, mag)  # (n_mels, t)\n",
    "\n",
    "        # to decibel\n",
    "        mel = 20 * np.log10(np.maximum(1e-5, mel))\n",
    "        mag = 20 * np.log10(np.maximum(1e-5, mag))\n",
    "\n",
    "        # normalize\n",
    "        mel = np.clip((mel - self.ref_db + self.max_db) / self.max_db, 1e-8, 1)# ref_db=20, max_db=100\n",
    "        mag = np.clip((mag - self.ref_db + self.max_db) / self.max_db, 1e-8, 1)\n",
    "\n",
    "        # Transpose\n",
    "        mel = mel.T.astype(np.float32)  # (T, n_mels)\n",
    "        mag = mag.T.astype(np.float32)  # (T, 1+n_fft//2)\n",
    "\n",
    "        return mel, mag"
   ]
  },
  {
   "cell_type": "code",
   "execution_count": 24,
   "metadata": {},
   "outputs": [],
   "source": [
    "import torch\n",
    "from torch.utils.data import Dataset, DataLoader\n",
    "import torch.nn as nn\n",
    "import torch.nn.functional as F\n",
    "import numpy as np"
   ]
  },
  {
   "cell_type": "code",
   "execution_count": 60,
   "metadata": {},
   "outputs": [
    {
     "name": "stdout",
     "output_type": "stream",
     "text": [
      "[0. 0. 0. 0. 0. 0. 0. 0. 0. 0.]\n",
      "[0. 0. 0. 0. 0. 0. 0. 0. 0. 0.]\n"
     ]
    }
   ],
   "source": [
    "class MyDataset(Dataset):\n",
    "    def __init__(self, x, y):\n",
    "        self.data = torch.FloatTensor(x)\n",
    "        self.lable = torch.LongTensor(y)\n",
    "    def __len__(self):\n",
    "        return len(self.data)\n",
    "    def __getitem__(self, idx):\n",
    "        return (self.data[idx], self.lable[idx])\n",
    "\n",
    "X_train = np.random.randn(10000, 20)\n",
    "Y_train = np.zeros(10000,)#((np.sum(X_train[:, :10], axis=1))>0).astype(int)\n",
    "X_dev = np.random.randn(1000, 20)\n",
    "Y_dev = np.zeros(1000,)#((np.sum(X_dev, axis=1))>0).astype(int)\n",
    "print(Y_train[:10])\n",
    "print(Y_dev[:10])"
   ]
  },
  {
   "cell_type": "code",
   "execution_count": 61,
   "metadata": {},
   "outputs": [
    {
     "name": "stdout",
     "output_type": "stream",
     "text": [
      "epoch:0 acc：1.0\n",
      "epoch:1 acc：1.0\n",
      "epoch:2 acc：1.0\n",
      "epoch:3 acc：1.0\n",
      "epoch:4 acc：1.0\n",
      "epoch:5 acc：1.0\n",
      "epoch:6 acc：1.0\n",
      "epoch:7 acc：1.0\n",
      "epoch:8 acc：1.0\n",
      "epoch:9 acc：1.0\n"
     ]
    }
   ],
   "source": [
    "dataset_train = MyDataset(X_train, Y_train)\n",
    "dataset_dev = MyDataset(X_dev, Y_dev)\n",
    "dataloader_train = DataLoader(dataset_train, batch_size=20,\n",
    "                        shuffle=True, num_workers=4)\n",
    "\n",
    "dataloader_dev = DataLoader(dataset_dev, batch_size=20,\n",
    "                        shuffle=True, num_workers=4)\n",
    "\n",
    "class MyModel(nn.Module):\n",
    "    def __init__(self, input_dim, num_class):\n",
    "        super(MyModel, self).__init__()\n",
    "        self.network = nn.Sequential(\n",
    "                       nn.Linear(input_dim, input_dim),\n",
    "                       nn.Dropout(p=0.5),\n",
    "                       nn.ReLU(),\n",
    "                       nn.Linear(input_dim, input_dim),\n",
    "                       nn.ReLU(),\n",
    "                       nn.Linear(int(input_dim), num_class)\n",
    "                        )\n",
    "    def forward(self, X):\n",
    "        out = self.network(X)\n",
    "        return out\n",
    "        \n",
    "model = MyModel(20, 2)\n",
    "optimizer = torch.optim.SGD(model.parameters(), lr=0.001, momentum=0.9)\n",
    "num_epoch = 10\n",
    "for epoch in range(num_epoch):\n",
    "    model.train()\n",
    "    for (x, y) in dataloader_train:\n",
    "        optimizer.zero_grad()\n",
    "        logits = model(x)\n",
    "        loss = F.cross_entropy(logits, y)\n",
    "        loss.backward()\n",
    "        optimizer.step()\n",
    "    \n",
    "    model.eval()\n",
    "    tot = 0\n",
    "    correct = 0\n",
    "    for (x, y) in dataloader_dev:\n",
    "        logits = model(x)\n",
    "        predict = logits.argmax(dim=1)\n",
    "        tot += x.size(0)\n",
    "        correct += (predict == y).float().sum()\n",
    "    acc = correct / tot\n",
    "    print(f'epoch:{epoch} acc：{acc}')"
   ]
  }
 ],
 "metadata": {
  "kernelspec": {
   "display_name": "Python 3",
   "language": "python",
   "name": "python3"
  },
  "language_info": {
   "codemirror_mode": {
    "name": "ipython",
    "version": 3
   },
   "file_extension": ".py",
   "mimetype": "text/x-python",
   "name": "python",
   "nbconvert_exporter": "python",
   "pygments_lexer": "ipython3",
   "version": "3.6.5"
  }
 },
 "nbformat": 4,
 "nbformat_minor": 2
}

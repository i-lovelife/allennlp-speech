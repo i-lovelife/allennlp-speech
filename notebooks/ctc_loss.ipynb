{
 "cells": [
  {
   "cell_type": "code",
   "execution_count": 2,
   "metadata": {},
   "outputs": [],
   "source": [
    "import torch\n",
    "import torch.nn.functional as F\n",
    "import numpy as np"
   ]
  },
  {
   "cell_type": "code",
   "execution_count": 16,
   "metadata": {},
   "outputs": [
    {
     "name": "stdout",
     "output_type": "stream",
     "text": [
      "['a', 's', 'd', 'd', 's', 'a']\n"
     ]
    }
   ],
   "source": [
    "import re\n",
    "mystr = 'asd23dsa'\n",
    "mystr = list(filter(lambda x: re.match(r\"[a-zA-Z']\", x), mystr))\n",
    "print(mystr)"
   ]
  },
  {
   "cell_type": "code",
   "execution_count": 5,
   "metadata": {},
   "outputs": [
    {
     "name": "stdout",
     "output_type": "stream",
     "text": [
      "{'#': 0, \"'\": 1, 'A': 2, 'B': 3, 'C': 4, 'D': 5, 'E': 6, 'F': 7, 'G': 8, 'H': 9, 'I': 10, 'J': 11, 'K': 12, 'L': 13, 'M': 14, 'N': 15, 'O': 16, 'P': 17, 'Q': 18, 'R': 19, 'S': 20, 'T': 21, 'U': 22, 'V': 23, 'W': 24, 'X': 25, 'Y': 26, 'Z': 27, ' ': 28}\n"
     ]
    }
   ],
   "source": [
    "labels =[\n",
    "  \"#\",\n",
    "  \"'\",\n",
    "  \"A\",\n",
    "  \"B\",\n",
    "  \"C\",\n",
    "  \"D\",\n",
    "  \"E\",\n",
    "  \"F\",\n",
    "  \"G\",\n",
    "  \"H\",\n",
    "  \"I\",\n",
    "  \"J\",\n",
    "  \"K\",\n",
    "  \"L\",\n",
    "  \"M\",\n",
    "  \"N\",\n",
    "  \"O\",\n",
    "  \"P\",\n",
    "  \"Q\",\n",
    "  \"R\",\n",
    "  \"S\",\n",
    "  \"T\",\n",
    "  \"U\",\n",
    "  \"V\",\n",
    "  \"W\",\n",
    "  \"X\",\n",
    "  \"Y\",\n",
    "  \"Z\",\n",
    "  \" \"\n",
    "]\n",
    "labels_map = {ch:idx for idx, ch in enumerate(labels)}\n",
    "print(labels_map)"
   ]
  },
  {
   "cell_type": "code",
   "execution_count": 17,
   "metadata": {},
   "outputs": [
    {
     "name": "stdout",
     "output_type": "stream",
     "text": [
      "#A#B#\n",
      "without softmax:-1.5994876623153687\n",
      "#A#B#\n",
      "with softmax:-1.4478483200073242\n"
     ]
    }
   ],
   "source": [
    "def cal(target, prob):\n",
    "    new_target = '#'\n",
    "    for ch in target:\n",
    "        new_target += ch + '#'\n",
    "    print(new_target)\n",
    "    \n",
    "    def get_idx(ch):\n",
    "        return labels_map[ch]\n",
    "    T = prob.size(0)\n",
    "    N = len(new_target)\n",
    "    f = torch.zeros(T, N)\n",
    "    f[0][0] = prob[0][0]\n",
    "    f[0][get_idx(new_target[0])] = prob[0][get_idx(new_target[0])]\n",
    "    for i in range(1, T):\n",
    "        for j in range(len(new_target)):\n",
    "            c = get_idx(new_target[j])\n",
    "            val = f[i-1][j]\n",
    "            if j > 0:\n",
    "                val += f[i-1][j-1]\n",
    "            if j > 1 and new_target[j] != '#' and new_target[j] != new_target[j-2]:\n",
    "                val += f[i-1][j-2]\n",
    "            f[i][j] = val * prob[i][c]\n",
    "        sum = 0\n",
    "        for j in range(len(new_target)):\n",
    "            sum += f[i-1][j]\n",
    "        for j in range(len(new_target)):\n",
    "            f[i-1][j] /= sum\n",
    "    ans = (f[T-1][-1] + f[T-1][-2]).log_()        \n",
    "    return ans\n",
    "target = 'AB'\n",
    "prob = torch.FloatTensor([[0.2, 0.2, 0.1, 0.5],[0.1, 0.1, 0.7, 0.1],[0.3, 0.1, 0.4, 0.2]])\n",
    "print(f'without softmax:{cal(target, prob)}')\n",
    "prob = F.softmax(prob, dim=1)\n",
    "print(f'with softmax:{cal(target, prob)}')"
   ]
  },
  {
   "cell_type": "code",
   "execution_count": 25,
   "metadata": {},
   "outputs": [
    {
     "name": "stdout",
     "output_type": "stream",
     "text": [
      "torch.ctc_loss: tensor([1.8386])\n"
     ]
    }
   ],
   "source": [
    "prob = torch.FloatTensor([[0.1, 0.1, 0.7, 0.1],[0.1, 0.1, 0.1, 0.7],[0.1, 0.1, 0.1, 0.7]])\n",
    "prob = F.log_softmax(prob, dim=1).view(3, 1, 4)\n",
    "target = torch.IntTensor([2, 3])\n",
    "input_lengths = torch.IntTensor([3])\n",
    "target_lengths = torch.IntTensor([2])\n",
    "val = F.ctc_loss(log_probs=prob, targets= target, input_lengths=input_lengths, target_lengths=target_lengths, reduction='none')\n",
    "print(f'torch.ctc_loss: {val}')"
   ]
  },
  {
   "cell_type": "code",
   "execution_count": null,
   "metadata": {},
   "outputs": [],
   "source": [
    "transcript = 'HELLO WORLD'\n",
    "print(list(transcript))\n",
    "transcript = list(filter(None, [labels_map.get(x) for x in list(transcript)]))\n",
    "print(transcript)"
   ]
  },
  {
   "cell_type": "code",
   "execution_count": null,
   "metadata": {},
   "outputs": [],
   "source": [
    "'a' + 1"
   ]
  }
 ],
 "metadata": {
  "kernelspec": {
   "display_name": "Python 3",
   "language": "python",
   "name": "python3"
  },
  "language_info": {
   "codemirror_mode": {
    "name": "ipython",
    "version": 3
   },
   "file_extension": ".py",
   "mimetype": "text/x-python",
   "name": "python",
   "nbconvert_exporter": "python",
   "pygments_lexer": "ipython3",
   "version": "3.6.5"
  }
 },
 "nbformat": 4,
 "nbformat_minor": 2
}

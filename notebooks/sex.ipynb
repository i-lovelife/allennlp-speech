{
 "cells": [
  {
   "cell_type": "code",
   "execution_count": null,
   "metadata": {},
   "outputs": [],
   "source": [
    "class SexClassifier(nn.Module):\n",
    "    def __init__(self):\n",
    "        super(SexClassifier, self).__init__()\n",
    "        self.encoder = Encoder()\n",
    "        self.decoder = SpeakerClassifier(n_class=2)\n",
    "    \n",
    "    def forward(self, feature):\n",
    "        feature = feature.permute(0, 2, 1)\n",
    "        encoded = self.encoder(feature)\n",
    "        logits = self.decoder(encoded)\n",
    "        return logits"
   ]
  },
  {
   "cell_type": "code",
   "execution_count": null,
   "metadata": {},
   "outputs": [],
   "source": [
    "class Acc(object):\n",
    "    def __init__(self, name):\n",
    "        self.count = 0\n",
    "        self.correct = 0\n",
    "        self.name = name\n",
    "    def update(self, predict, expect):\n",
    "        self.count += predict.size(0)\n",
    "        self.correct += int((predict == expect).float().sum())\n",
    "    def reset(self):\n",
    "        self.count = 0\n",
    "        self.correct = 0\n",
    "    def get_acc(self):\n",
    "        return self.correct / self.count if self.count > 0 else 0\n",
    "    def __str__(self):\n",
    "        return f'acc {name}:{format(self.get_acc(), \".2f\")}'\n"
   ]
  },
  {
   "cell_type": "code",
   "execution_count": null,
   "metadata": {},
   "outputs": [],
   "source": []
  }
 ],
 "metadata": {
  "kernelspec": {
   "display_name": "Python 3",
   "language": "python",
   "name": "python3"
  },
  "language_info": {
   "codemirror_mode": {
    "name": "ipython",
    "version": 3
   },
   "file_extension": ".py",
   "mimetype": "text/x-python",
   "name": "python",
   "nbconvert_exporter": "python",
   "pygments_lexer": "ipython3",
   "version": "3.6.5"
  }
 },
 "nbformat": 4,
 "nbformat_minor": 2
}
